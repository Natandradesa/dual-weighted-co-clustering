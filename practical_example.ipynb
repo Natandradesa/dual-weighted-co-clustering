{
 "cells": [
  {
   "cell_type": "code",
   "execution_count": 1,
   "id": "4f1c7f9e",
   "metadata": {},
   "outputs": [],
   "source": [
    "import numpy as np\n",
    "import pandas as pd\n",
    "from algorithms.double_subspace_coclustering import DWGKFDK, sigma2est\n",
    "import pickle\n",
    "import matplotlib.pyplot as plt"
   ]
  },
  {
   "cell_type": "code",
   "execution_count": 2,
   "id": "46eadef5",
   "metadata": {},
   "outputs": [],
   "source": [
    "def standarlization(X):\n",
    "    norm = lambda x: (x - np.mean(x))/(np.std(x))\n",
    "    if type(X) == np.ndarray:\n",
    "        X = pd.DataFrame(X)\n",
    "    X_scale = X.apply(norm, axis=0)\n",
    "    X_scale = X_scale.fillna(0)\n",
    "    return X_scale\n",
    "\n",
    "def numerical_class(y):\n",
    "    return np.unique(y, return_inverse=True)[1]\n",
    "\n",
    "def load_datasets(path):\n",
    "    with open(path, 'rb') as f:\n",
    "        info = pickle.load(f)\n",
    "    return info"
   ]
  },
  {
   "cell_type": "code",
   "execution_count": 3,
   "id": "f8630b37",
   "metadata": {},
   "outputs": [
    {
     "data": {
      "text/plain": [
       "np.float64(1.2820156037366874)"
      ]
     },
     "execution_count": 3,
     "metadata": {},
     "output_type": "execute_result"
    }
   ],
   "source": [
    "X, y,_ = load_datasets('datasets/wdbc')\n",
    "X = standarlization(X)\n",
    "y = numerical_class(y)\n",
    "n_classes = len(np.unique(y))\n",
    "\n",
    "sig2 = sigma2est(X)\n",
    "sig2"
   ]
  },
  {
   "cell_type": "code",
   "execution_count": 4,
   "id": "92834d24",
   "metadata": {},
   "outputs": [
    {
     "name": "stderr",
     "output_type": "stream",
     "text": [
      "/home/ze_nataniel/Área de trabalho/FUZZ-IEEE GITHUB/.venv/lib/python3.12/site-packages/sklearn/utils/deprecation.py:132: FutureWarning: 'force_all_finite' was renamed to 'ensure_all_finite' in 1.6 and will be removed in 1.8.\n",
      "  warnings.warn(\n"
     ]
    }
   ],
   "source": [
    "rs = DWGKFDK(K=n_classes, H=n_classes, m=1.01, n=1.007, sigma2=sig2, n_init=100).fit(X, random_state=10)"
   ]
  },
  {
   "cell_type": "code",
   "execution_count": 6,
   "id": "9c1c666b",
   "metadata": {},
   "outputs": [
    {
     "data": {
      "text/plain": [
       "array([[-0.57142434, -0.45466633],\n",
       "       [ 0.76117705,  0.20686238]])"
      ]
     },
     "execution_count": 6,
     "metadata": {},
     "output_type": "execute_result"
    }
   ],
   "source": [
    "# Prototypes\n",
    "rs.G"
   ]
  },
  {
   "cell_type": "code",
   "execution_count": 7,
   "id": "1300ea83",
   "metadata": {},
   "outputs": [
    {
     "data": {
      "text/plain": [
       "array([ 0.1941961 ,  0.51437829,  0.55836196,  0.22869162,  0.5080617 ,\n",
       "        0.49510813,  1.13260874,  0.72403519,  0.48625347,  0.24939923,\n",
       "        0.72892921,  1.6684035 ,  0.24978762,  0.67693033,  0.34375785,\n",
       "        0.56995359,  0.80394077,  1.04580323,  0.35509897,  1.76349845,\n",
       "        1.73298992,  1.17968281,  0.48901615,  0.33888461,  0.49290646,\n",
       "        0.32354746,  0.53789599,  0.71678968,  0.98816162,  1.47129936,\n",
       "        0.49137147,  0.4862214 ,  1.03462974,  0.6722768 ,  1.07794368,\n",
       "        1.83624243,  0.94507783,  1.31863919,  0.36222871,  0.59399099,\n",
       "        1.85521039,  0.71594326,  0.23351073,  0.82170389,  0.7539759 ,\n",
       "        0.68579696,  0.84835829,  0.57248548,  3.18682367,  2.17178127,\n",
       "        1.99141601,  2.71502489,  3.61903343,  0.77643342,  0.91790587,\n",
       "        2.28727246,  0.55992307,  1.22590365,  1.17143774,  0.68970734,\n",
       "        0.6341043 ,  0.6278627 ,  0.47922751,  0.55889857,  0.83114221,\n",
       "        1.16308867,  0.90201274,  2.93491854,  0.24113691,  3.02118775,\n",
       "        0.45527808,  0.3805328 ,  0.66484117,  0.938182  , 21.30131339,\n",
       "        0.72056054,  0.71282945,  0.36481858,  0.17714971,  8.78119141,\n",
       "        1.27924306,  0.60100121,  0.16809467,  0.44008721,  3.23084996,\n",
       "        0.95574803,  0.72650904,  0.98807777,  1.58911877,  0.86832868,\n",
       "        1.78589529,  0.78230582,  1.30633714,  3.94224753,  1.64154177,\n",
       "        0.71073809,  2.08065986,  0.75163684,  3.14741731,  0.93691633,\n",
       "        1.04454138,  0.42276156,  2.12009824,  1.32196076,  1.47616062,\n",
       "        0.48919728,  1.17907948,  2.80723098,  0.14211752,  1.80415808,\n",
       "        0.94635909,  0.62775618,  0.31318852,  0.66684279,  0.75168133,\n",
       "        3.09389664,  0.42102479,  1.21002436,  0.75472028,  0.51126213,\n",
       "        1.99458516,  1.06065368,  0.14625718,  1.05949099,  1.2786661 ,\n",
       "        2.38349018,  0.98411062,  0.61542664,  0.77872602,  0.79055134,\n",
       "        1.54363812,  1.61159783,  1.3204104 ,  0.97185052,  1.02575241,\n",
       "        2.78911151,  1.47283728,  5.59392229,  0.41855211,  1.05402669,\n",
       "        0.73478581,  1.25277948,  2.27605836,  2.99791015,  2.07462831,\n",
       "        0.62371952,  0.42900427,  0.53008966,  1.0551469 ,  2.24606489,\n",
       "        1.33873701,  0.29146764,  0.20909376,  1.83356012,  1.40653946,\n",
       "        6.22061822,  0.82380829,  0.56350587,  3.44008204,  1.42676823,\n",
       "        0.84136224,  0.37528407,  0.38353729,  1.21226601,  0.34987764,\n",
       "        1.2976506 ,  1.2377702 ,  1.13201256,  0.47004301,  1.85417962,\n",
       "        2.49054107,  1.13924749,  1.00473207,  0.93734097,  0.78323279,\n",
       "        0.6367556 ,  0.33942271,  1.52416695,  0.71541609,  1.49463219,\n",
       "        0.20121857,  0.24636583,  0.96306879,  1.07677604,  0.76008307,\n",
       "        0.90303377,  0.5770472 ,  4.46125492,  1.53796603,  4.23679285,\n",
       "        0.26687788,  0.66391986,  0.52407444,  0.53820533,  0.90998199,\n",
       "        5.02804534,  0.68531082,  0.62061048,  0.9406623 ,  0.65363633,\n",
       "        2.84897757,  1.73967732,  0.23750937,  0.67351273,  1.89630089,\n",
       "        0.78670274,  1.31974853,  0.65322108,  0.65944337,  0.96075093,\n",
       "        0.39657364,  8.15993474,  0.16842331,  0.40593851,  0.70552264,\n",
       "        0.71423865,  0.77734497,  0.99589179,  0.44214749,  0.36661447,\n",
       "        1.92920501,  1.46631933,  1.35691097,  1.24282241,  4.61918519,\n",
       "        0.82356631,  1.59431391,  0.86289182,  1.40718   ,  0.50685764,\n",
       "        0.98611784,  1.06103124,  0.99251122,  0.6024299 ,  1.13874554,\n",
       "        2.05866344,  0.22483642,  0.48269305,  0.78154958,  1.35473172,\n",
       "        3.66642193,  1.39409172,  0.37114076,  1.40369947,  1.4096273 ,\n",
       "        1.03801647,  1.9173407 ,  0.4040755 ,  1.40499364,  5.32402828,\n",
       "        0.26358699,  3.56678404,  0.33449062,  1.28048741,  0.73422294,\n",
       "        0.88969186,  0.37638337,  0.43281841,  0.22942053,  0.6561233 ,\n",
       "        0.620504  ,  0.58650283,  0.61481778,  0.91862885,  0.96336221,\n",
       "        0.23514423,  1.14596664,  2.0182124 ,  2.56764969,  0.60133432,\n",
       "        0.87272188,  3.02947851,  0.24715613,  1.07977953,  0.62952917,\n",
       "        0.60162831,  1.16209848,  0.59761686,  1.60932147,  2.82378591,\n",
       "        0.83317409,  0.97799391,  1.10119747,  1.38234807,  0.83199825,\n",
       "        1.36354913,  0.78854198,  1.5112985 ,  0.44474008,  1.74333781,\n",
       "        0.33042294,  1.21696905,  1.52526401,  3.8213741 ,  3.02850217,\n",
       "        2.09353034,  1.13852755,  1.08212365,  1.46698712,  1.19256221,\n",
       "        0.35190792,  1.60853633,  0.31169726,  1.43952627,  4.03296247,\n",
       "        1.286756  ,  1.53322066,  0.6626586 ,  0.89074193,  1.20913339,\n",
       "        1.91307867,  1.12807967,  3.11892465,  1.443874  ,  0.43166409,\n",
       "        1.11321139,  1.26063147,  1.36869711,  0.26457007,  0.98019008,\n",
       "        0.67545427,  0.54148817,  2.19124194,  0.37671449,  6.18487306,\n",
       "        4.42094909,  1.78641095,  1.42112852,  2.61949184,  1.0505674 ,\n",
       "        1.72235945,  1.0445196 ,  0.89329196,  1.61679638,  1.93438933,\n",
       "        0.77402342,  1.4608306 ,  0.74602984,  1.79702626,  0.22037557,\n",
       "        0.88955024,  0.77892665,  1.61183214,  0.61578338,  2.04800915,\n",
       "        0.70096661,  2.89771847,  1.28395596,  2.23202333,  1.29697416,\n",
       "        1.84589548,  0.33649483,  0.17071696,  1.06310558,  1.00963174,\n",
       "        0.81160069,  0.65826149,  2.28832297,  0.69179163,  1.31024154,\n",
       "        0.9904724 ,  3.31106732,  7.16790707,  0.87364896,  3.07233654,\n",
       "        0.59693252,  0.36624617,  5.63622465,  0.21795552,  0.24853822,\n",
       "        1.03919115,  1.47980322,  0.72724218,  0.52059936,  2.37307453,\n",
       "        0.71450062,  0.28828638,  1.40887829,  1.38315374,  0.30766773,\n",
       "        0.9983836 ,  2.77869291,  0.61870677,  0.86011357,  2.62044077,\n",
       "        0.90534159,  1.89947392,  1.64084861,  0.49032285,  0.59829345,\n",
       "        1.78155784,  0.49616765,  1.32346812,  0.30998031,  2.81605889,\n",
       "        2.20650013,  1.18787284,  1.57025485,  2.03026903,  6.58859077,\n",
       "        0.45257991,  3.46721419,  1.63418396,  3.24442137,  1.66712882,\n",
       "        1.99389779,  1.04663192,  0.7982121 ,  2.76536098,  2.33636384,\n",
       "        2.38907044,  2.98957799,  0.83540232,  0.78694971,  0.69517942,\n",
       "        2.12036095,  0.70922442,  0.4102444 ,  2.64350201,  1.63680108,\n",
       "        2.35293974,  0.74794614,  2.05070526,  1.06452543,  0.55738649,\n",
       "        1.03680048,  0.94029612,  2.26551409,  1.64755773,  1.86533998,\n",
       "        0.37264836,  0.90188445,  0.80557026,  0.87879929,  2.52839111,\n",
       "        0.68486045,  2.99229042,  2.77412742,  1.94574911,  2.04927209,\n",
       "        0.57637005,  1.22163532,  1.47975344,  0.94042219,  1.1064159 ,\n",
       "        1.54116824,  1.31304527,  1.59598819,  1.26545189,  0.44943783,\n",
       "        0.54808361,  0.79643512,  1.89648473,  1.34724368,  3.2988447 ,\n",
       "        1.53010452,  1.18097999,  2.08754604,  1.77476216,  1.09119208,\n",
       "        0.58244053,  0.15252379,  1.41364337,  4.09922634,  2.74141199,\n",
       "        0.4209486 ,  1.02002595,  1.1257638 ,  0.38030012,  0.51439129,\n",
       "        1.47656489,  0.9349902 ,  1.13849118,  0.65936551,  0.98442276,\n",
       "        2.47916695,  1.09969844,  1.65101022,  2.18960267,  0.73069623,\n",
       "        4.39439626,  2.00059042,  1.2409111 ,  3.68267668,  0.64104208,\n",
       "        0.33589487,  1.56597014,  0.83129584,  2.27040657,  0.60675039,\n",
       "        2.48286556,  0.44935659,  1.00720343,  1.07735603,  2.2154276 ,\n",
       "        1.43924818,  0.87654015,  3.71886327,  0.9737904 ,  0.65495896,\n",
       "        0.92464643,  0.63771628,  1.56824648,  0.22271178,  0.3419637 ,\n",
       "        0.32720703,  1.23966088,  0.71245634,  0.89325062,  0.63855348,\n",
       "        0.92135859,  1.71745552,  0.82849463,  1.31466201,  1.03876748,\n",
       "        2.34514378,  1.67002529,  1.10973175,  0.95688281,  1.82852294,\n",
       "        0.56367118,  0.21964322,  1.44370774,  1.54227172,  1.52224729,\n",
       "        0.7816354 ,  1.17561178,  2.05493847,  0.4948203 ,  2.46164722,\n",
       "        1.80413962,  1.83679046,  2.15958129,  0.50912115,  1.26314501,\n",
       "        0.52294138,  0.71690037,  0.534731  ,  0.41915648,  0.32833724,\n",
       "        0.91186277,  0.74346326,  1.33039955,  2.02238934,  2.61496918,\n",
       "        2.88130987,  1.60434204,  1.08942928,  1.60640256,  1.04230209,\n",
       "        0.8600608 ,  1.3711335 ,  1.69368623,  0.7877273 ,  1.81755805,\n",
       "        0.81185132,  1.01696276,  0.52244995,  0.62299201,  0.75566328,\n",
       "        1.00263504,  0.58743624,  0.36305129,  0.23172156,  0.24319134,\n",
       "        0.46043148,  1.00439999,  0.20762472,  0.51668834])"
      ]
     },
     "execution_count": 7,
     "metadata": {},
     "output_type": "execute_result"
    }
   ],
   "source": [
    "# Weights of the objects\n",
    "rs.object_weights"
   ]
  },
  {
   "cell_type": "code",
   "execution_count": 8,
   "id": "a3a4458e",
   "metadata": {},
   "outputs": [
    {
     "data": {
      "text/plain": [
       "array([1.18556414, 0.50210845, 1.29694288, 1.47672276, 0.50309986,\n",
       "       1.10603499, 1.7949869 , 1.7883297 , 0.55357186, 0.62516637,\n",
       "       1.45086747, 0.5009319 , 1.6358441 , 2.78078667, 0.6013805 ,\n",
       "       1.02258702, 1.48839528, 0.87884671, 0.60938951, 1.14341202,\n",
       "       1.4776425 , 0.46974222, 1.61738072, 1.8677666 , 0.51840785,\n",
       "       1.03825756, 1.16880103, 1.20366553, 0.61844174, 0.77978621])"
      ]
     },
     "execution_count": 8,
     "metadata": {},
     "output_type": "execute_result"
    }
   ],
   "source": [
    "# Weights of the variables\n",
    "rs.variable_weights"
   ]
  },
  {
   "cell_type": "code",
   "execution_count": 9,
   "id": "b59cf2e3",
   "metadata": {},
   "outputs": [
    {
     "data": {
      "text/plain": [
       "array([[6.93917818e-19, 1.00000000e+00],\n",
       "       [3.20529113e-26, 1.00000000e+00],\n",
       "       [1.00762156e-51, 1.00000000e+00],\n",
       "       ...,\n",
       "       [8.77722244e-40, 1.00000000e+00],\n",
       "       [1.70241159e-21, 1.00000000e+00],\n",
       "       [1.00000000e+00, 1.63553947e-44]], shape=(569, 2))"
      ]
     },
     "execution_count": 9,
     "metadata": {},
     "output_type": "execute_result"
    }
   ],
   "source": [
    "# Partition of the objects\n",
    "rs.U"
   ]
  },
  {
   "cell_type": "code",
   "execution_count": 10,
   "id": "9cc99c2d",
   "metadata": {},
   "outputs": [
    {
     "data": {
      "text/plain": [
       "array([[1.00000000e+00, 4.46029293e-12],\n",
       "       [1.09829932e-03, 9.98901701e-01],\n",
       "       [1.00000000e+00, 9.16469768e-15],\n",
       "       [1.00000000e+00, 4.11295932e-10],\n",
       "       [1.46399282e-03, 9.98536007e-01],\n",
       "       [1.00000000e+00, 4.59533227e-10],\n",
       "       [1.00000000e+00, 0.00000000e+00],\n",
       "       [1.00000000e+00, 0.00000000e+00],\n",
       "       [7.16264799e-05, 9.99928374e-01],\n",
       "       [6.16243005e-14, 1.00000000e+00],\n",
       "       [1.03495783e-06, 9.99998965e-01],\n",
       "       [7.12159848e-13, 1.00000000e+00],\n",
       "       [1.21530354e-09, 9.99999999e-01],\n",
       "       [0.00000000e+00, 1.00000000e+00],\n",
       "       [7.12881462e-16, 1.00000000e+00],\n",
       "       [7.07121526e-10, 9.99999999e-01],\n",
       "       [5.59482909e-20, 1.00000000e+00],\n",
       "       [3.40696808e-03, 9.96593032e-01],\n",
       "       [4.81871597e-17, 1.00000000e+00],\n",
       "       [0.00000000e+00, 1.00000000e+00],\n",
       "       [1.00000000e+00, 6.13675609e-18],\n",
       "       [3.96256009e-03, 9.96037440e-01],\n",
       "       [1.00000000e+00, 5.59418361e-21],\n",
       "       [1.00000000e+00, 1.40830118e-13],\n",
       "       [8.30754377e-03, 9.91692456e-01],\n",
       "       [9.99984318e-01, 1.56820673e-05],\n",
       "       [1.00000000e+00, 5.31879247e-13],\n",
       "       [1.00000000e+00, 0.00000000e+00],\n",
       "       [4.01495784e-08, 9.99999960e-01],\n",
       "       [2.15120009e-08, 9.99999978e-01]])"
      ]
     },
     "execution_count": 10,
     "metadata": {},
     "output_type": "execute_result"
    }
   ],
   "source": [
    "# Partition of the variables\n",
    "rs.V"
   ]
  },
  {
   "cell_type": "code",
   "execution_count": 12,
   "id": "ec4cf206",
   "metadata": {},
   "outputs": [
    {
     "data": {
      "text/plain": [
       "27"
      ]
     },
     "execution_count": 12,
     "metadata": {},
     "output_type": "execute_result"
    }
   ],
   "source": [
    "# Number of iterations untill convergence\n",
    "rs.iterations"
   ]
  },
  {
   "cell_type": "code",
   "execution_count": 13,
   "id": "09b5dbb5",
   "metadata": {},
   "outputs": [
    {
     "data": {
      "text/plain": [
       "np.float64(3948.1332691375364)"
      ]
     },
     "execution_count": 13,
     "metadata": {},
     "output_type": "execute_result"
    }
   ],
   "source": [
    "# Final value of the objective function\n",
    "rs.J"
   ]
  },
  {
   "cell_type": "code",
   "execution_count": null,
   "id": "3b985f49",
   "metadata": {},
   "outputs": [
    {
     "data": {
      "text/plain": [
       "[<matplotlib.lines.Line2D at 0x76cff8390260>]"
      ]
     },
     "execution_count": 11,
     "metadata": {},
     "output_type": "execute_result"
    },
    {
     "data": {
      "image/png": "[encoded data removed]",
      "text/plain": [
       "<Figure size 640x480 with 1 Axes>"
      ]
     },
     "metadata": {},
     "output_type": "display_data"
    }
   ],
   "source": [
    "# Values of the objective function during the co-clustering process\n",
    "plt.plot(rs.Jlist)"
   ]
  }
 ],
 "metadata": {
  "kernelspec": {
   "display_name": ".venv",
   "language": "python",
   "name": "python3"
  },
  "language_info": {
   "codemirror_mode": {
    "name": "ipython",
    "version": 3
   },
   "file_extension": ".py",
   "mimetype": "text/x-python",
   "name": "python",
   "nbconvert_exporter": "python",
   "pygments_lexer": "ipython3",
   "version": "3.12.3"
  }
 },
 "nbformat": 4,
 "nbformat_minor": 5
}
